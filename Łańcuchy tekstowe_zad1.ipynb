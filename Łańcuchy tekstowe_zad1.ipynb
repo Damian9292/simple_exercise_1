{
 "cells": [
  {
   "cell_type": "markdown",
   "id": "b1887f64",
   "metadata": {},
   "source": [
    "Łańcuchy tekstowe \n",
    "\n",
    "Zadanie 1\n",
    "Napisz funkcję create_email(first_name, last_name), która wygeneruje adres email w domenie mojasuperfirma.com. Nazwa użytkownika powinna być utworzona na podstawie argumentów: pierwsza litera imienia, kropka, nazwisko – wszystko pisane małymi literami.\n",
    "\n",
    "Przykład:\n",
    "\n",
    "print(create_email('Jan', 'Kowalski'))\n",
    "\n",
    "Wynik:\n",
    "\n",
    "j.kowalski@mojasuperfirma.com"
   ]
  },
  {
   "cell_type": "code",
   "execution_count": 8,
   "id": "acfa2de8",
   "metadata": {},
   "outputs": [
    {
     "data": {
      "text/plain": [
       "'d.pientka@mojasuperfirma.com'"
      ]
     },
     "execution_count": 8,
     "metadata": {},
     "output_type": "execute_result"
    }
   ],
   "source": [
    "def create_email(first_name, last_name):\n",
    "    \n",
    "    return f\"{first_name[0].lower()}.{last_name.lower()}@mojasuperfirma.com\"\n",
    "    \n",
    "    \n",
    "create_email('Damian', 'Pientka')    "
   ]
  },
  {
   "cell_type": "code",
   "execution_count": null,
   "id": "b796b75c",
   "metadata": {},
   "outputs": [],
   "source": []
  }
 ],
 "metadata": {
  "kernelspec": {
   "display_name": "Python 3 (ipykernel)",
   "language": "python",
   "name": "python3"
  },
  "language_info": {
   "codemirror_mode": {
    "name": "ipython",
    "version": 3
   },
   "file_extension": ".py",
   "mimetype": "text/x-python",
   "name": "python",
   "nbconvert_exporter": "python",
   "pygments_lexer": "ipython3",
   "version": "3.11.4"
  }
 },
 "nbformat": 4,
 "nbformat_minor": 5
}
