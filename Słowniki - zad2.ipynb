{
 "cells": [
  {
   "cell_type": "markdown",
   "id": "698e0c39",
   "metadata": {},
   "source": [
    "Zadanie 2\n",
    "Napisz funkcję display_dict(dictionary), która jako argument przyjmie słownik i wyświetli go w podany niżej sposób.\n",
    "\n",
    "display_dict({'cat': 'Kot', 'dog': 'Pies', 'bird': 'Ptak'})\n",
    "\n",
    "cat=>Kot\n",
    "dog=>Pies\n",
    "bird=>Ptak"
   ]
  },
  {
   "cell_type": "code",
   "execution_count": 3,
   "id": "19706013",
   "metadata": {},
   "outputs": [
    {
     "name": "stdout",
     "output_type": "stream",
     "text": [
      "cat=>Kot\n",
      "dog=>Pies\n",
      "bird=>Ptak\n"
     ]
    }
   ],
   "source": [
    "def display_dict(dictionary):\n",
    "    return  f\"cat=>{dictionary['cat']}\\ndog=>{dictionary['dog']}\\nbird=>{dictionary['bird']}\"\n",
    "    \n",
    "    \n",
    "    \n",
    "print(display_dict({'cat': 'Kot', 'dog': 'Pies', 'bird': 'Ptak'}))"
   ]
  },
  {
   "cell_type": "code",
   "execution_count": null,
   "id": "e478426a",
   "metadata": {},
   "outputs": [],
   "source": []
  }
 ],
 "metadata": {
  "kernelspec": {
   "display_name": "Python 3 (ipykernel)",
   "language": "python",
   "name": "python3"
  },
  "language_info": {
   "codemirror_mode": {
    "name": "ipython",
    "version": 3
   },
   "file_extension": ".py",
   "mimetype": "text/x-python",
   "name": "python",
   "nbconvert_exporter": "python",
   "pygments_lexer": "ipython3",
   "version": "3.11.4"
  }
 },
 "nbformat": 4,
 "nbformat_minor": 5
}
