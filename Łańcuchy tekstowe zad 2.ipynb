{
 "cells": [
  {
   "cell_type": "markdown",
   "id": "7d317948",
   "metadata": {},
   "source": [
    "#Łańcuchy tekstowe\n",
    "\n",
    "Zadanie 2\n",
    "Napisz funkcję create_address(first_name, last_name, street, number, city, zipcode), która wygeneruje ładnie sformatowany adres – zobacz przykład poniżej:\n",
    "\n",
    "Przykład:\n",
    "\n",
    "print(create_address('Jan', 'Kowalski', 'Lipowa', 4, 'Warszawa', '00-123'))\n",
    "\n",
    "Wynik:\n",
    "\n",
    "Sz. P. Jan Kowalski\n",
    "ul. Lipowa 4\n",
    "00-123 Warszawa\n",
    "\n",
    "Zadanie rozwiąż za pomocą składni f-string\n",
    "\n",
    "Podpowiedź:\n",
    "\n",
    "Znak nowej linii możesz zapisać jako \\\\n:\n",
    "\n",
    "print(\"Linia 1\\nLinia 2\")\n",
    "\n",
    "Linia 1\n",
    "Linia 2"
   ]
  },
  {
   "cell_type": "code",
   "execution_count": 12,
   "id": "b94c3a0d",
   "metadata": {},
   "outputs": [
    {
     "name": "stdout",
     "output_type": "stream",
     "text": [
      "Sz. P. Damian Pientka\n",
      "ul. Wielka Skotnica 10\n",
      "41-400 Mysłowice\n"
     ]
    }
   ],
   "source": [
    "def create_address(first_name, last_name, street, number, city, zipcode):\n",
    "    return f\"Sz. P. {first_name} {last_name}\\nul. {street} {number}\\n{zipcode} {city}\"\n",
    "    \n",
    "\n",
    "print(create_address('Damian', 'Pientka', 'Wielka Skotnica', 10, 'Mysłowice', '41-400'))"
   ]
  },
  {
   "cell_type": "code",
   "execution_count": null,
   "id": "34b17830",
   "metadata": {},
   "outputs": [],
   "source": []
  }
 ],
 "metadata": {
  "kernelspec": {
   "display_name": "Python 3 (ipykernel)",
   "language": "python",
   "name": "python3"
  },
  "language_info": {
   "codemirror_mode": {
    "name": "ipython",
    "version": 3
   },
   "file_extension": ".py",
   "mimetype": "text/x-python",
   "name": "python",
   "nbconvert_exporter": "python",
   "pygments_lexer": "ipython3",
   "version": "3.11.4"
  }
 },
 "nbformat": 4,
 "nbformat_minor": 5
}
