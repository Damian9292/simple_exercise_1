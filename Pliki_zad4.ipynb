{
 "cells": [
  {
   "cell_type": "code",
   "execution_count": 1,
   "id": "873a13d1",
   "metadata": {},
   "outputs": [
    {
     "name": "stdout",
     "output_type": "stream",
     "text": [
      "Kamil Ĺ›limak\n",
      "\n",
      "A tu mamy mamuta\n",
      "\n",
      "Ada butelki, pikle tu bada\n",
      "\n"
     ]
    }
   ],
   "source": [
    "import glob\n",
    "\n",
    "pliki = glob.glob(\"data/*.txt\") # znajdź wszystkie pliki z rozszerzeniem .txt w folderze data/\n",
    "for plik in pliki: # dla każdego pliku\n",
    "    with open(plik, \"r\") as f: # otwórz plik w trybie odczytu\n",
    "        tresc = f.read() # przeczytaj całą treść pliku\n",
    "        print(tresc) # wyświetl treść na ekranie"
   ]
  },
  {
   "cell_type": "markdown",
   "id": "00d8ac0b",
   "metadata": {},
   "source": [
    "Zadanie 4\n",
    "Znajdź wszystkie pliki z rozszerzeniem .txt w folderze data/, w pętli otwórz każdy z nich, i wyświetl jego treść na ekranie.\n",
    "\n",
    "Zadanie będzie poprawnie wykonane, gdy na ekranie zobaczysz trzy polskie palindromy, oraz zero czeskich (bo te są w plikach .py, a nie .txt) i rosyjskich (te są w plikach .html)."
   ]
  },
  {
   "cell_type": "code",
   "execution_count": 2,
   "id": "0b67d657",
   "metadata": {},
   "outputs": [
    {
     "name": "stdout",
     "output_type": "stream",
     "text": [
      "Element nie istnieje.\n"
     ]
    }
   ],
   "source": [
    "array = [1, 2]\n",
    "try:\n",
    "    print(array[5])\n",
    "except IndexError:  # Niewłaściwy typ!\n",
    "    print(\"Element nie istnieje.\")"
   ]
  },
  {
   "cell_type": "code",
   "execution_count": null,
   "id": "677c901b",
   "metadata": {},
   "outputs": [],
   "source": []
  }
 ],
 "metadata": {
  "kernelspec": {
   "display_name": "Python 3 (ipykernel)",
   "language": "python",
   "name": "python3"
  },
  "language_info": {
   "codemirror_mode": {
    "name": "ipython",
    "version": 3
   },
   "file_extension": ".py",
   "mimetype": "text/x-python",
   "name": "python",
   "nbconvert_exporter": "python",
   "pygments_lexer": "ipython3",
   "version": "3.11.4"
  }
 },
 "nbformat": 4,
 "nbformat_minor": 5
}
