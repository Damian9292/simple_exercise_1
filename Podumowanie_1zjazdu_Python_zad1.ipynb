{
 "cells": [
  {
   "cell_type": "markdown",
   "id": "0870d9e9",
   "metadata": {},
   "source": [
    "Zadanie 1\n",
    "Napisz funkcję letter_counter(text), która jako argument przyjmie string, a zwróci słownik, w którym kluczem będą znaki ze stringa, a wartościami liczba ich wystąpień.\n",
    "\n",
    "Przykład:\n",
    "\n",
    "print(letter_counter('Katarzyna'))\n",
    "\n",
    "Wynik:\n",
    "\n",
    "{'K': 1, 'a': 3, 't': 1, 'r': 1, 'z': 1, 'y': 1, 'n': 1}"
   ]
  },
  {
   "cell_type": "code",
   "execution_count": 15,
   "id": "f31a63d3",
   "metadata": {},
   "outputs": [
    {
     "data": {
      "text/plain": [
       "{'K': 1, 'a': 3, 't': 1, 'r': 1, 'z': 1, 'y': 1, 'n': 1}"
      ]
     },
     "execution_count": 15,
     "metadata": {},
     "output_type": "execute_result"
    }
   ],
   "source": [
    "def letter_counter(text):\n",
    "    słownik = {}\n",
    "    for x in text:\n",
    "        słownik[x] = słownik.get(x, 0) + 1\n",
    "    return słownik\n",
    "letter_counter('Katarzyna')"
   ]
  },
  {
   "cell_type": "code",
   "execution_count": null,
   "id": "a9b90359",
   "metadata": {},
   "outputs": [],
   "source": []
  }
 ],
 "metadata": {
  "kernelspec": {
   "display_name": "Python 3 (ipykernel)",
   "language": "python",
   "name": "python3"
  },
  "language_info": {
   "codemirror_mode": {
    "name": "ipython",
    "version": 3
   },
   "file_extension": ".py",
   "mimetype": "text/x-python",
   "name": "python",
   "nbconvert_exporter": "python",
   "pygments_lexer": "ipython3",
   "version": "3.11.4"
  }
 },
 "nbformat": 4,
 "nbformat_minor": 5
}
