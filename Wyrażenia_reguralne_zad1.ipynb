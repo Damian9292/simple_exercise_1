{
 "cells": [
  {
   "cell_type": "markdown",
   "id": "7de2673a",
   "metadata": {},
   "source": [
    "Zadanie 1\n",
    "Napisz funkcję find_emails_in_file(filename), która przyjmie jeden argument: nazwę pliku do przeszukania.\n",
    "\n",
    "Funkcja powinna zwrócić listę stringów - adresów email znalezionych we wskazanym pliku.\n",
    "\n",
    "Wbrew pozorom regex opisujący poprawny adres email jest bardzo trudny: możesz go znaleźć tutaj."
   ]
  },
  {
   "cell_type": "code",
   "execution_count": 28,
   "id": "79b73d92",
   "metadata": {},
   "outputs": [
    {
     "data": {
      "text/plain": [
       "['kszpyra@gmail.com',\n",
       " 'mhumeniuk@gmail.com',\n",
       " 'jkujda@o2.pl',\n",
       " 'd.wojtiuk@gmail.com',\n",
       " 'd.pleskot@gmail.com',\n",
       " 'j.snoch@gmail.com',\n",
       " 'e.bender@gmail.com',\n",
       " 'u.kostera@o2.pl',\n",
       " 'lgemza@o2.pl',\n",
       " 'abusko@interia.pl',\n",
       " 'jzysk@gmail.com',\n",
       " 'jlodyga@wp.pl',\n",
       " 'ggebura@o2.pl',\n",
       " 'rchojna@gmail.com',\n",
       " 'r.slobodzian@wp.pl',\n",
       " 't.murat@interia.pl',\n",
       " 'gferdyn@o2.pl',\n",
       " 'e.chojna@o2.pl',\n",
       " 'kfrelich@wp.pl',\n",
       " 'g.dolega@gmail.com',\n",
       " 'azapadka@gmail.com',\n",
       " 'nprzeklasa@interia.pl',\n",
       " 'm.szarejko@wp.pl',\n",
       " 't.warczak@o2.pl',\n",
       " 't.drozda@interia.pl',\n",
       " 'kziarno@gmail.com',\n",
       " 'dkielan@gmail.com',\n",
       " 'aziegler@o2.pl',\n",
       " 'i.fedyk@gmail.com',\n",
       " 'j.hajdukiewicz@wp.pl',\n",
       " 'abanys@o2.pl',\n",
       " 'j.jarka@interia.pl',\n",
       " 'a.hanusiak@gmail.com',\n",
       " 'r.szkup@gmail.com',\n",
       " 'bkujda@wp.pl',\n",
       " 'j.janic@interia.pl',\n",
       " 'p.rejmer@interia.pl',\n",
       " 'f.gustaw@wp.pl',\n",
       " 'dterka@gmail.com',\n",
       " 'n.strzelczak@wp.pl']"
      ]
     },
     "execution_count": 28,
     "metadata": {},
     "output_type": "execute_result"
    }
   ],
   "source": [
    "import re\n",
    "def find_emails_in_file(filename):\n",
    "    with open(filename, 'r', encoding = 'utf-8' ) as file:\n",
    "        regex = r'[a-zA-Z0-9_.+-]+@[a-zA-Z0-9-]+\\.[a-zA-Z0-9-.]+'\n",
    "        file_content = file.read()\n",
    "        found = re.findall(regex, file_content)\n",
    "        return found\n",
    "    \n",
    "find_emails_in_file('data.txt')"
   ]
  },
  {
   "cell_type": "code",
   "execution_count": null,
   "id": "136341ca",
   "metadata": {},
   "outputs": [],
   "source": []
  }
 ],
 "metadata": {
  "kernelspec": {
   "display_name": "Python 3 (ipykernel)",
   "language": "python",
   "name": "python3"
  },
  "language_info": {
   "codemirror_mode": {
    "name": "ipython",
    "version": 3
   },
   "file_extension": ".py",
   "mimetype": "text/x-python",
   "name": "python",
   "nbconvert_exporter": "python",
   "pygments_lexer": "ipython3",
   "version": "3.11.4"
  }
 },
 "nbformat": 4,
 "nbformat_minor": 5
}
