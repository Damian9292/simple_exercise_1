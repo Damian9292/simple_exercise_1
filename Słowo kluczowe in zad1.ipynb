{
 "cells": [
  {
   "cell_type": "markdown",
   "id": "7f4b112e",
   "metadata": {},
   "source": [
    "Zadanie 1\n",
    "Napisz funkcję wordfinder(list_of_words, word), która jako argumenty przyjmie listę stringów oraz jeden string do znalezienia na tej liście.\n",
    "\n",
    "Jeśli string word znajduje się na liście list_of_words, dopisz na końcu tej listy \"Found\".\n",
    "\n",
    "Przykład:\n",
    "\n",
    "words = ['Twinkle', 'twinkle', 'little', 'star']\n",
    "print('words BEFORE:', words)\n",
    "wordfinder(words, 'twinkle')\n",
    "print('words AFTER:', words)\n",
    "\n",
    "words BEFORE: ['Twinkle', 'twinkle', 'little', 'star']\n",
    "words AFTER: ['Twinkle', 'twinkle', 'little', 'star', 'Found']"
   ]
  },
  {
   "cell_type": "code",
   "execution_count": 5,
   "id": "c3ab66f8",
   "metadata": {},
   "outputs": [
    {
     "data": {
      "text/plain": [
       "['Twinkle', 'twinkle', 'little', 'star', 'Found']"
      ]
     },
     "execution_count": 5,
     "metadata": {},
     "output_type": "execute_result"
    }
   ],
   "source": [
    "def wordfinder(list_of_words, word):\n",
    "  # sprawdź, czy słowo jest na liście\n",
    "  if word in list_of_words:\n",
    "    # jeśli tak, dopisz na końcu listy \"Found\"\n",
    "    list_of_words.append(\"Found\")\n",
    "  # zwróć listę\n",
    "  return list_of_words    \n",
    "    \n",
    "wordfinder(['Twinkle', 'twinkle', 'little', 'star'], 'star')    \n",
    "\n",
    "    "
   ]
  },
  {
   "cell_type": "code",
   "execution_count": null,
   "id": "ca66f5e6",
   "metadata": {},
   "outputs": [],
   "source": []
  }
 ],
 "metadata": {
  "kernelspec": {
   "display_name": "Python 3 (ipykernel)",
   "language": "python",
   "name": "python3"
  },
  "language_info": {
   "codemirror_mode": {
    "name": "ipython",
    "version": 3
   },
   "file_extension": ".py",
   "mimetype": "text/x-python",
   "name": "python",
   "nbconvert_exporter": "python",
   "pygments_lexer": "ipython3",
   "version": "3.11.4"
  }
 },
 "nbformat": 4,
 "nbformat_minor": 5
}
