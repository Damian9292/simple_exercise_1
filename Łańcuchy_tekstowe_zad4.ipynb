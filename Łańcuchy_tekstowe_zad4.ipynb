{
 "cells": [
  {
   "cell_type": "markdown",
   "id": "db917179",
   "metadata": {},
   "source": [
    "Zadanie 4\n",
    "Napisz funkcję reverse_str(text), która jako argument przyjmie string, a zwróci string będący argumentem napisanym od końca do początku.\n",
    "\n",
    "Przykład:\n",
    "\n",
    "reverse_str('Test')\n",
    "\n",
    "tseT"
   ]
  },
  {
   "cell_type": "code",
   "execution_count": 1,
   "id": "11469db0",
   "metadata": {},
   "outputs": [
    {
     "data": {
      "text/plain": [
       "'atok am alA'"
      ]
     },
     "execution_count": 1,
     "metadata": {},
     "output_type": "execute_result"
    }
   ],
   "source": [
    "def reverse_str(text):\n",
    "    return text[::-1]\n",
    "reverse_str('Ala ma kota')"
   ]
  },
  {
   "cell_type": "code",
   "execution_count": null,
   "id": "e424db74",
   "metadata": {},
   "outputs": [],
   "source": []
  }
 ],
 "metadata": {
  "kernelspec": {
   "display_name": "Python 3 (ipykernel)",
   "language": "python",
   "name": "python3"
  },
  "language_info": {
   "codemirror_mode": {
    "name": "ipython",
    "version": 3
   },
   "file_extension": ".py",
   "mimetype": "text/x-python",
   "name": "python",
   "nbconvert_exporter": "python",
   "pygments_lexer": "ipython3",
   "version": "3.11.4"
  }
 },
 "nbformat": 4,
 "nbformat_minor": 5
}
