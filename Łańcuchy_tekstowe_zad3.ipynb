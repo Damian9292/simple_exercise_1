{
 "cells": [
  {
   "cell_type": "markdown",
   "id": "debae44f",
   "metadata": {},
   "source": [
    "#Łańcuchy teksowe zad 3\n",
    "\n",
    "Zadanie 3\n",
    "Napisz funkcję anonymize(email), która jako argument przyjmie adres email, a zwróci tekst składający się z:\n",
    "\n",
    "pierwszych trzech znaków adresu email\n",
    "trzech gwiazdek: '***'\n",
    "ostatnich pięciu znaków adresu email\n",
    "Jeśli adres ma mniej niż 10 znaków, funkcja powinna zwrócić tekst składający się z:\n",
    "\n",
    "trzech gwiazdek: '***'\n",
    "ostatnich pięciu znaków adresu email\n",
    "Przykład:\n",
    "\n",
    "anonymize('j.kowalski@gmail.com')\n",
    "\n",
    "j.k***l.com\n",
    "\n",
    "anonymize('jko@o2.pl')\n",
    "\n",
    "***o2.pl"
   ]
  },
  {
   "cell_type": "code",
   "execution_count": 13,
   "id": "eaecf7cb",
   "metadata": {},
   "outputs": [
    {
     "data": {
      "text/plain": [
       "'***in.pl'"
      ]
     },
     "execution_count": 13,
     "metadata": {},
     "output_type": "execute_result"
    }
   ],
   "source": [
    "def anonymize(email):\n",
    "    if len(email) > 10:\n",
    "        print(f\"{email[0:3]}***{email[-5:]}\")\n",
    "    else:\n",
    "        return f\"***{email[-5:]}\"\n",
    "    \n",
    "anonymize('da@in.pl')"
   ]
  },
  {
   "cell_type": "code",
   "execution_count": null,
   "id": "78b3a189",
   "metadata": {},
   "outputs": [],
   "source": []
  }
 ],
 "metadata": {
  "kernelspec": {
   "display_name": "Python 3 (ipykernel)",
   "language": "python",
   "name": "python3"
  },
  "language_info": {
   "codemirror_mode": {
    "name": "ipython",
    "version": 3
   },
   "file_extension": ".py",
   "mimetype": "text/x-python",
   "name": "python",
   "nbconvert_exporter": "python",
   "pygments_lexer": "ipython3",
   "version": "3.11.4"
  }
 },
 "nbformat": 4,
 "nbformat_minor": 5
}
