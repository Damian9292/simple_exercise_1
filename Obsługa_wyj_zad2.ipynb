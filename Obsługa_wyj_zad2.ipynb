{
 "cells": [
  {
   "cell_type": "markdown",
   "id": "eef30096",
   "metadata": {},
   "source": [
    "Zadanie 2\n",
    "Napisz funkcję check_zip_code(code), która sprawdzi poprawność kodu pocztowego.\n",
    "\n",
    "Poprawny kod to: \"CC-CCC\", gdzie C to cyfra.\n",
    "\n",
    "Jeśli podany kod nie ma dokładnie sześciu znaków, rzuć wyjątek ValueError z komentarzem \"Niepoprawna długość\".\n",
    "\n",
    "Jeśli podany kod nie ma znaku - na trzecim miejscu, rzuć wyjątek ValueError z komentarzem \"Brak minusa\".\n",
    "\n",
    "Jeśli pozostałe znaki nie są cyframi, rzuć wyjątek ValueError z komentarzem \"Niedozwolony znak\".\n",
    "\n",
    "Podpowiedź:\n",
    "Aby sprawdzić, czy dany string składa się tylko z cyfr, użyj metody .isdigit()."
   ]
  },
  {
   "cell_type": "code",
   "execution_count": 3,
   "id": "e382b0bf",
   "metadata": {},
   "outputs": [
    {
     "ename": "ValueError",
     "evalue": "Niedozwolony znak",
     "output_type": "error",
     "traceback": [
      "\u001b[1;31m---------------------------------------------------------------------------\u001b[0m",
      "\u001b[1;31mValueError\u001b[0m                                Traceback (most recent call last)",
      "Cell \u001b[1;32mIn[3], line 16\u001b[0m\n\u001b[0;32m     14\u001b[0m   \u001b[38;5;66;03m# Jeśli wszystkie warunki są spełnione, zwracamy True\u001b[39;00m\n\u001b[0;32m     15\u001b[0m   \u001b[38;5;28;01mreturn\u001b[39;00m \u001b[38;5;28;01mTrue\u001b[39;00m\n\u001b[1;32m---> 16\u001b[0m check_zip_code(\u001b[38;5;124m'\u001b[39m\u001b[38;5;124m4+-400\u001b[39m\u001b[38;5;124m'\u001b[39m)\n",
      "Cell \u001b[1;32mIn[3], line 13\u001b[0m, in \u001b[0;36mcheck_zip_code\u001b[1;34m(code)\u001b[0m\n\u001b[0;32m     10\u001b[0m \u001b[38;5;66;03m# Sprawdzamy, czy pozostałe znaki są cyframi\u001b[39;00m\n\u001b[0;32m     11\u001b[0m \u001b[38;5;28;01mif\u001b[39;00m \u001b[38;5;129;01mnot\u001b[39;00m (code[:\u001b[38;5;241m2\u001b[39m]\u001b[38;5;241m.\u001b[39misdigit() \u001b[38;5;129;01mand\u001b[39;00m code[\u001b[38;5;241m3\u001b[39m:]\u001b[38;5;241m.\u001b[39misdigit()):\n\u001b[0;32m     12\u001b[0m   \u001b[38;5;66;03m# Rzucamy wyjątek ValueError z komentarzem \"Niedozwolony znak\"\u001b[39;00m\n\u001b[1;32m---> 13\u001b[0m   \u001b[38;5;28;01mraise\u001b[39;00m \u001b[38;5;167;01mValueError\u001b[39;00m(\u001b[38;5;124m\"\u001b[39m\u001b[38;5;124mNiedozwolony znak\u001b[39m\u001b[38;5;124m\"\u001b[39m)\n\u001b[0;32m     14\u001b[0m \u001b[38;5;66;03m# Jeśli wszystkie warunki są spełnione, zwracamy True\u001b[39;00m\n\u001b[0;32m     15\u001b[0m \u001b[38;5;28;01mreturn\u001b[39;00m \u001b[38;5;28;01mTrue\u001b[39;00m\n",
      "\u001b[1;31mValueError\u001b[0m: Niedozwolony znak"
     ]
    }
   ],
   "source": [
    "def check_zip_code(code):\n",
    "  # Sprawdzamy długość kodu\n",
    "  if len(code) != 6:\n",
    "    # Rzucamy wyjątek ValueError z komentarzem \"Niepoprawna długość\"\n",
    "    raise ValueError(\"Niepoprawna długość\")\n",
    "  # Sprawdzamy znak - na trzecim miejscu\n",
    "  if code[2] != \"-\":\n",
    "    # Rzucamy wyjątek ValueError z komentarzem \"Brak minusa\"\n",
    "    raise ValueError(\"Brak minusa\")\n",
    "  # Sprawdzamy, czy pozostałe znaki są cyframi\n",
    "  if not (code[:2].isdigit() and code[3:].isdigit()):\n",
    "    # Rzucamy wyjątek ValueError z komentarzem \"Niedozwolony znak\"\n",
    "    raise ValueError(\"Niedozwolony znak\")\n",
    "  # Jeśli wszystkie warunki są spełnione, zwracamy True\n",
    "  return True\n",
    "check_zip_code('4+-400')"
   ]
  },
  {
   "cell_type": "code",
   "execution_count": null,
   "id": "f7bc9750",
   "metadata": {},
   "outputs": [],
   "source": []
  }
 ],
 "metadata": {
  "kernelspec": {
   "display_name": "Python 3 (ipykernel)",
   "language": "python",
   "name": "python3"
  },
  "language_info": {
   "codemirror_mode": {
    "name": "ipython",
    "version": 3
   },
   "file_extension": ".py",
   "mimetype": "text/x-python",
   "name": "python",
   "nbconvert_exporter": "python",
   "pygments_lexer": "ipython3",
   "version": "3.11.4"
  }
 },
 "nbformat": 4,
 "nbformat_minor": 5
}
